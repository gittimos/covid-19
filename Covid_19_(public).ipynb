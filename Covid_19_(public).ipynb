{
  "nbformat": 4,
  "nbformat_minor": 0,
  "metadata": {
    "colab": {
      "name": "Covid-19 (public).ipynb",
      "provenance": [],
      "collapsed_sections": [
        "zjqeOoUxxtHv"
      ],
      "authorship_tag": "ABX9TyNlQidF6gRXjYzxVV1bddXe",
      "include_colab_link": true
    },
    "kernelspec": {
      "name": "python3",
      "display_name": "Python 3"
    }
  },
  "cells": [
    {
      "cell_type": "markdown",
      "metadata": {
        "id": "view-in-github",
        "colab_type": "text"
      },
      "source": [
        "<a href=\"https://colab.research.google.com/github/gittimos/covid-19/blob/master/Covid_19_(public).ipynb\" target=\"_parent\"><img src=\"https://colab.research.google.com/assets/colab-badge.svg\" alt=\"Open In Colab\"/></a>"
      ]
    },
    {
      "cell_type": "markdown",
      "metadata": {
        "id": "0gKBBaKQxvsF",
        "colab_type": "text"
      },
      "source": [
        "# Loading libraries and data"
      ]
    },
    {
      "cell_type": "code",
      "metadata": {
        "id": "lBDEvPz6Fdy1",
        "colab_type": "code",
        "colab": {}
      },
      "source": [
        "import pandas as pd\n",
        "import numpy as np\n",
        "from sklearn.linear_model import LinearRegression"
      ],
      "execution_count": 0,
      "outputs": []
    },
    {
      "cell_type": "code",
      "metadata": {
        "id": "ZPddMrPPFVUk",
        "colab_type": "code",
        "colab": {}
      },
      "source": [
        "# Load data from Github (2019 Novel Coronavirus COVID-19 (2019-nCoV) Data Repository by Johns Hopkins CSSE)\n",
        "url = 'https://raw.githubusercontent.com/CSSEGISandData/COVID-19/master/csse_covid_19_data/csse_covid_19_time_series/time_series_19-covid-Confirmed.csv'\n",
        "df1 = pd.read_csv(url)"
      ],
      "execution_count": 0,
      "outputs": []
    },
    {
      "cell_type": "code",
      "metadata": {
        "id": "d0XPgWXUMnQp",
        "colab_type": "code",
        "colab": {}
      },
      "source": [
        "# create dataframe with data for Italy and Germany\n",
        "start = 33 # index of start element in time series\n",
        "df2 = df1.loc[df1[\"Country/Region\"].isin([\"Italy\", \"Germany\"])].iloc[:,start:].T\n",
        "df2 = df2.iloc[:-1,:] # no data update for 3/12/20\n",
        "df2.columns = [\"Germany\",\"Italy\"]"
      ],
      "execution_count": 0,
      "outputs": []
    },
    {
      "cell_type": "code",
      "metadata": {
        "id": "AYAaTGXMXE6Y",
        "colab_type": "code",
        "colab": {}
      },
      "source": [
        "# Create third time series with shifted data from Germany for comparison\n",
        "delta_t = 8 # offset of the time series for comparison\n",
        "df2[\"Germany shifted 8 days\"] = df2.Germany.shift(-delta_t)"
      ],
      "execution_count": 0,
      "outputs": []
    },
    {
      "cell_type": "markdown",
      "metadata": {
        "id": "tSJouORhwx2-",
        "colab_type": "text"
      },
      "source": [
        "# Plotting the data"
      ]
    },
    {
      "cell_type": "code",
      "metadata": {
        "id": "ni01pdN7N2ae",
        "colab_type": "code",
        "outputId": "e65d622f-eee5-4dde-bb93-4f796b8c4b8e",
        "colab": {
          "base_uri": "https://localhost:8080/",
          "height": 282
        }
      },
      "source": [
        "df2.plot(linewidth=0.5)"
      ],
      "execution_count": 9,
      "outputs": [
        {
          "output_type": "execute_result",
          "data": {
            "text/plain": [
              "<matplotlib.axes._subplots.AxesSubplot at 0x7fb74ae150f0>"
            ]
          },
          "metadata": {
            "tags": []
          },
          "execution_count": 9
        },
        {
          "output_type": "display_data",
          "data": {
            "image/png": "[encoded data removed]",
            "text/plain": [
              "<Figure size 432x288 with 1 Axes>"
            ]
          },
          "metadata": {
            "tags": []
          }
        }
      ]
    },
    {
      "cell_type": "markdown",
      "metadata": {
        "id": "p88rR6kow8nf",
        "colab_type": "text"
      },
      "source": [
        "# Plotting the logarithm"
      ]
    },
    {
      "cell_type": "code",
      "metadata": {
        "id": "v4w419QhhVHY",
        "colab_type": "code",
        "outputId": "86c262d8-4e9d-4e2d-af91-e0119121ac51",
        "colab": {
          "base_uri": "https://localhost:8080/",
          "height": 282
        }
      },
      "source": [
        "start_log = 9 # start with the more linear part of the log data\n",
        "df2.iloc[start_log:,:].plot(linewidth=0.5,logy=True,grid=True)"
      ],
      "execution_count": 10,
      "outputs": [
        {
          "output_type": "execute_result",
          "data": {
            "text/plain": [
              "<matplotlib.axes._subplots.AxesSubplot at 0x7fb73d050630>"
            ]
          },
          "metadata": {
            "tags": []
          },
          "execution_count": 10
        },
        {
          "output_type": "display_data",
          "data": {
            "image/png": "[encoded data removed]",
            "text/plain": [
              "<Figure size 432x288 with 1 Axes>"
            ]
          },
          "metadata": {
            "tags": []
          }
        }
      ]
    },
    {
      "cell_type": "markdown",
      "metadata": {
        "id": "D8J7J19R-FFH",
        "colab_type": "text"
      },
      "source": [
        "# Seven day growth"
      ]
    },
    {
      "cell_type": "markdown",
      "metadata": {
        "id": "fCc7cfs8-uAQ",
        "colab_type": "text"
      },
      "source": [
        "Growth of cases in Germany in the last seven days."
      ]
    },
    {
      "cell_type": "code",
      "metadata": {
        "id": "NxcWGj6qrxe-",
        "colab_type": "code",
        "colab": {
          "base_uri": "https://localhost:8080/",
          "height": 34
        },
        "outputId": "f69e74a5-f5cf-4803-b241-2eb70fefe623"
      },
      "source": [
        "df2.Germany[-1], df2.Germany[-8], df2.Germany[-1]/df2.Germany[-8]"
      ],
      "execution_count": 19,
      "outputs": [
        {
          "output_type": "execute_result",
          "data": {
            "text/plain": [
              "(1908, 262, 7.282442748091603)"
            ]
          },
          "metadata": {
            "tags": []
          },
          "execution_count": 19
        }
      ]
    },
    {
      "cell_type": "markdown",
      "metadata": {
        "id": "L_aXuPhz-ymT",
        "colab_type": "text"
      },
      "source": [
        "Growth of cases in Italy in the last seven days."
      ]
    },
    {
      "cell_type": "code",
      "metadata": {
        "id": "Hkv59Zxj-h8R",
        "colab_type": "code",
        "colab": {
          "base_uri": "https://localhost:8080/",
          "height": 34
        },
        "outputId": "a37abab5-f30f-4162-8617-6cb3ddfd1a63"
      },
      "source": [
        "df2.Italy[-1], df2.Italy[-8], df2.Italy[-1]/df2.Italy[-8]"
      ],
      "execution_count": 20,
      "outputs": [
        {
          "output_type": "execute_result",
          "data": {
            "text/plain": [
              "(12462, 3089, 4.034315312398834)"
            ]
          },
          "metadata": {
            "tags": []
          },
          "execution_count": 20
        }
      ]
    },
    {
      "cell_type": "code",
      "metadata": {
        "id": "Yf06FHjuEJuR",
        "colab_type": "code",
        "colab": {}
      },
      "source": [
        ""
      ],
      "execution_count": 0,
      "outputs": []
    }
  ]
}